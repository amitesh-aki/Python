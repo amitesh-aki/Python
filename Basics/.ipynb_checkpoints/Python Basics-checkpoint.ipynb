{
 "cells": [
  {
   "cell_type": "markdown",
   "metadata": {},
   "source": [
    "### Files"
   ]
  },
  {
   "cell_type": "markdown",
   "metadata": {},
   "source": [
    "Open a file:"
   ]
  },
  {
   "cell_type": "code",
   "execution_count": 1,
   "metadata": {},
   "outputs": [],
   "source": [
    "f = open('NewFile.txt')"
   ]
  },
  {
   "cell_type": "markdown",
   "metadata": {},
   "source": [
    "Read file:"
   ]
  },
  {
   "cell_type": "code",
   "execution_count": 2,
   "metadata": {},
   "outputs": [
    {
     "data": {
      "text/plain": [
       "'New File Opened.\\n\\nThis is the first line.\\n\\nThis is the second line.\\n\\nEnd File.'"
      ]
     },
     "execution_count": 2,
     "metadata": {},
     "output_type": "execute_result"
    }
   ],
   "source": [
    "f.read()"
   ]
  },
  {
   "cell_type": "code",
   "execution_count": 3,
   "metadata": {},
   "outputs": [
    {
     "data": {
      "text/plain": [
       "''"
      ]
     },
     "execution_count": 3,
     "metadata": {},
     "output_type": "execute_result"
    }
   ],
   "source": [
    "f.read()               # Now the cursor is at the end of the file so we'll get a blank space as output"
   ]
  },
  {
   "cell_type": "code",
   "execution_count": 4,
   "metadata": {},
   "outputs": [
    {
     "data": {
      "text/plain": [
       "0"
      ]
     },
     "execution_count": 4,
     "metadata": {},
     "output_type": "execute_result"
    }
   ],
   "source": [
    "f.seek(0)             # Seeks the cursor to the beginning"
   ]
  },
  {
   "cell_type": "code",
   "execution_count": 5,
   "metadata": {},
   "outputs": [
    {
     "data": {
      "text/plain": [
       "['New File Opened.\\n',\n",
       " '\\n',\n",
       " 'This is the first line.\\n',\n",
       " '\\n',\n",
       " 'This is the second line.\\n',\n",
       " '\\n',\n",
       " 'End File.']"
      ]
     },
     "execution_count": 5,
     "metadata": {},
     "output_type": "execute_result"
    }
   ],
   "source": [
    "f.readlines()"
   ]
  },
  {
   "cell_type": "markdown",
   "metadata": {},
   "source": [
    "Create a file from iPython cell:"
   ]
  },
  {
   "cell_type": "code",
   "execution_count": 6,
   "metadata": {},
   "outputs": [
    {
     "name": "stdout",
     "output_type": "stream",
     "text": [
      "Overwriting new.txt\n"
     ]
    }
   ],
   "source": [
    "%%writefile new.txt\n",
    "First Line\n",
    "Second Line"
   ]
  },
  {
   "cell_type": "code",
   "execution_count": 7,
   "metadata": {},
   "outputs": [
    {
     "name": "stdout",
     "output_type": "stream",
     "text": [
      "First Line\n",
      "\n",
      "Second Line\n"
     ]
    }
   ],
   "source": [
    "for line in open('new.txt'):\n",
    "    print (line)"
   ]
  },
  {
   "cell_type": "markdown",
   "metadata": {},
   "source": [
    "#### Q.)  Check for Prime numbers."
   ]
  },
  {
   "cell_type": "code",
   "execution_count": 8,
   "metadata": {},
   "outputs": [],
   "source": [
    "# Logical solution\n",
    "\n",
    "'''\n",
    "Prime numbers are whole numbers greater than 1 which are divisible by 1 and the number itself.\n",
    "'''\n",
    "\n",
    "def is_prime(num):\n",
    "    \n",
    "    for n in range(2,num):       # range(2,num) will give >1 and 'num-1' range of values for n.\n",
    "        if num%n == 0:           # if number divided by any value of n gives remainder as 0,\n",
    "            print ('Not Prime')  # then number is not prime.\n",
    "            break                # exit the loop \n",
    "    else:\n",
    "        print ('Prime number')            "
   ]
  },
  {
   "cell_type": "code",
   "execution_count": 9,
   "metadata": {},
   "outputs": [
    {
     "name": "stdout",
     "output_type": "stream",
     "text": [
      "Not Prime\n",
      "Prime number\n"
     ]
    }
   ],
   "source": [
    "is_prime(4)\n",
    "is_prime(7)"
   ]
  },
  {
   "cell_type": "markdown",
   "metadata": {},
   "source": [
    "Note:\n",
    "    Python __break__ statement. It terminates the current loop and resumes execution at the next statement, just like the traditional break statement in C. The most common use for break is when some external condition is triggered requiring a hasty exit from a loop. The break statement can be used in both while and for loops."
   ]
  },
  {
   "cell_type": "code",
   "execution_count": 10,
   "metadata": {},
   "outputs": [],
   "source": [
    "# Efficient solution\n",
    "\n",
    "import math\n",
    "\n",
    "def is_prime2(num):\n",
    "    \n",
    "    if num%2 == 0 and num > 2:\n",
    "        return False\n",
    "    \n",
    "    for i in range(3,int(math.sqrt(num))+1,2):\n",
    "        if num%i == 0:\n",
    "            return False\n",
    "        \n",
    "    return True"
   ]
  },
  {
   "cell_type": "code",
   "execution_count": 11,
   "metadata": {},
   "outputs": [
    {
     "data": {
      "text/plain": [
       "True"
      ]
     },
     "execution_count": 11,
     "metadata": {},
     "output_type": "execute_result"
    }
   ],
   "source": [
    "is_prime2(13)"
   ]
  },
  {
   "cell_type": "code",
   "execution_count": 12,
   "metadata": {},
   "outputs": [
    {
     "data": {
      "text/plain": [
       "False"
      ]
     },
     "execution_count": 12,
     "metadata": {},
     "output_type": "execute_result"
    }
   ],
   "source": [
    "is_prime2(14)"
   ]
  },
  {
   "cell_type": "markdown",
   "metadata": {},
   "source": [
    "__Range documentation:__\n",
    "\n",
    "range(start, stop[, step])"
   ]
  },
  {
   "cell_type": "markdown",
   "metadata": {},
   "source": [
    "#### Q.) Even number check."
   ]
  },
  {
   "cell_type": "code",
   "execution_count": 13,
   "metadata": {},
   "outputs": [],
   "source": [
    "even = lambda num: num%2 == 0"
   ]
  },
  {
   "cell_type": "code",
   "execution_count": 14,
   "metadata": {},
   "outputs": [
    {
     "data": {
      "text/plain": [
       "True"
      ]
     },
     "execution_count": 14,
     "metadata": {},
     "output_type": "execute_result"
    }
   ],
   "source": [
    "even(4)"
   ]
  },
  {
   "cell_type": "code",
   "execution_count": 15,
   "metadata": {},
   "outputs": [
    {
     "data": {
      "text/plain": [
       "False"
      ]
     },
     "execution_count": 15,
     "metadata": {},
     "output_type": "execute_result"
    }
   ],
   "source": [
    "even(5)"
   ]
  },
  {
   "cell_type": "markdown",
   "metadata": {},
   "source": [
    "#### Q.) Grab the first character of a string."
   ]
  },
  {
   "cell_type": "code",
   "execution_count": 16,
   "metadata": {},
   "outputs": [],
   "source": [
    "x = lambda s:s[0]"
   ]
  },
  {
   "cell_type": "code",
   "execution_count": 17,
   "metadata": {},
   "outputs": [
    {
     "data": {
      "text/plain": [
       "'h'"
      ]
     },
     "execution_count": 17,
     "metadata": {},
     "output_type": "execute_result"
    }
   ],
   "source": [
    "x('hello')"
   ]
  },
  {
   "cell_type": "markdown",
   "metadata": {},
   "source": [
    "#### Q.) Reverse the string."
   ]
  },
  {
   "cell_type": "code",
   "execution_count": 18,
   "metadata": {},
   "outputs": [],
   "source": [
    "rev = lambda s: s[::-1]"
   ]
  },
  {
   "cell_type": "code",
   "execution_count": 19,
   "metadata": {},
   "outputs": [
    {
     "data": {
      "text/plain": [
       "'olleh'"
      ]
     },
     "execution_count": 19,
     "metadata": {},
     "output_type": "execute_result"
    }
   ],
   "source": [
    "rev('hello')"
   ]
  },
  {
   "cell_type": "markdown",
   "metadata": {},
   "source": [
    "#### Q.) Adder using lambda expression."
   ]
  },
  {
   "cell_type": "code",
   "execution_count": 20,
   "metadata": {},
   "outputs": [],
   "source": [
    "adder = lambda x,y: x+y"
   ]
  },
  {
   "cell_type": "code",
   "execution_count": 21,
   "metadata": {},
   "outputs": [
    {
     "data": {
      "text/plain": [
       "11"
      ]
     },
     "execution_count": 21,
     "metadata": {},
     "output_type": "execute_result"
    }
   ],
   "source": [
    "adder(10,1)"
   ]
  },
  {
   "cell_type": "markdown",
   "metadata": {},
   "source": [
    "#### Q.) Remove Duplicate items from a list."
   ]
  },
  {
   "cell_type": "code",
   "execution_count": 22,
   "metadata": {},
   "outputs": [],
   "source": [
    "def remove(duplicate):\n",
    "    \n",
    "    final_list = []\n",
    "    for num in duplicate:\n",
    "        if num not in final_list:\n",
    "            final_list.append(num)\n",
    "            \n",
    "    return final_list"
   ]
  },
  {
   "cell_type": "code",
   "execution_count": 23,
   "metadata": {},
   "outputs": [
    {
     "name": "stdout",
     "output_type": "stream",
     "text": [
      "[1, 2, 3, 4, 5, 6]\n"
     ]
    }
   ],
   "source": [
    "duplicate = [1,2,3,4,1,2,5,6,4]\n",
    "print(remove(duplicate))"
   ]
  },
  {
   "cell_type": "markdown",
   "metadata": {},
   "source": [
    "#### Q.) Largest, Smallest, Second Largest, Second Smallest in a List."
   ]
  },
  {
   "cell_type": "code",
   "execution_count": 24,
   "metadata": {},
   "outputs": [],
   "source": [
    "def find_len(list1):\n",
    "    \n",
    "    length = len(list1)\n",
    "    list1.sort()\n",
    "    \n",
    "    print('Smallest = ',list1[0])\n",
    "    print('Second Smallest = ',list1[1])\n",
    "    print('Second largest = ',list1[length-2])\n",
    "    print('Largest = ',list1[length-1])"
   ]
  },
  {
   "cell_type": "code",
   "execution_count": 25,
   "metadata": {},
   "outputs": [
    {
     "name": "stdout",
     "output_type": "stream",
     "text": [
      "Smallest =  2\n",
      "Second Smallest =  4\n",
      "Second largest =  41\n",
      "Largest =  45\n"
     ]
    }
   ],
   "source": [
    "list1=[12, 45, 2, 41, 31, 10, 8, 6, 4]\n",
    "find_len(list1)"
   ]
  },
  {
   "cell_type": "markdown",
   "metadata": {},
   "source": [
    "#### Q.) Check if string is rotated by two places."
   ]
  },
  {
   "cell_type": "code",
   "execution_count": 26,
   "metadata": {},
   "outputs": [],
   "source": [
    "def rotate_string(S1,S2,S3):\n",
    "    if (S1[2:]+ S1[:2]) == S2 and (S1[-2:]+S1[:-2]) == S3:  # rotating from start\n",
    "        return True\n",
    "    else:\n",
    "        return False\n",
    "    \n",
    "    print('S1',S1)    \n",
    "    print('S1[2:]',S1[2:])\n",
    "    print('S1[:2]',S1[:2])\n",
    "    print('S1[-2:]',S1[-2:])\n",
    "    print('S1[:-2]',S1[:-2])"
   ]
  },
  {
   "cell_type": "code",
   "execution_count": 27,
   "metadata": {},
   "outputs": [
    {
     "data": {
      "text/plain": [
       "False"
      ]
     },
     "execution_count": 27,
     "metadata": {},
     "output_type": "execute_result"
    }
   ],
   "source": [
    "S1=\"amazon\" \n",
    "S2=\"azonam\"\n",
    "S3=\"ocnbamagz\"\n",
    "\n",
    "rotate_string(S1,S2,S3)"
   ]
  },
  {
   "cell_type": "code",
   "execution_count": 28,
   "metadata": {},
   "outputs": [
    {
     "data": {
      "text/plain": [
       "True"
      ]
     },
     "execution_count": 28,
     "metadata": {},
     "output_type": "execute_result"
    }
   ],
   "source": [
    "S1=\"amazon\" \n",
    "S2=\"azonam\"\n",
    "S3=\"onamaz\"\n",
    "\n",
    "rotate_string(S1,S2,S3)"
   ]
  },
  {
   "cell_type": "markdown",
   "metadata": {},
   "source": [
    "#### Q.) Convert roman to integers."
   ]
  },
  {
   "cell_type": "code",
   "execution_count": 29,
   "metadata": {},
   "outputs": [
    {
     "name": "stdout",
     "output_type": "stream",
     "text": [
      "Integer form of Roman Numeral is\n",
      "1904\n"
     ]
    }
   ],
   "source": [
    "# Python program to convert Roman Numerals\n",
    "# to Numbers\n",
    " \n",
    "# This function returns value of each Roman symbol\n",
    "def value(r):\n",
    "    if (r == 'I'):\n",
    "        return 1\n",
    "    if (r == 'V'):\n",
    "        return 5\n",
    "    if (r == 'X'):\n",
    "        return 10\n",
    "    if (r == 'L'):\n",
    "        return 50\n",
    "    if (r == 'C'):\n",
    "        return 100\n",
    "    if (r == 'D'):\n",
    "        return 500\n",
    "    if (r == 'M'):\n",
    "        return 1000\n",
    "    return -1                 # ?\n",
    " \n",
    "def romanToDecimal(str):\n",
    "    res = 0\n",
    "    i = 0\n",
    " \n",
    "    while (i < len(str)):\n",
    " \n",
    "        # Getting value of symbol s[i]\n",
    "        s1 = value(str[i])\n",
    " \n",
    "        if (i+1 < len(str)):\n",
    " \n",
    "            # Getting value of symbol s[i+1]\n",
    "            s2 = value(str[i+1])\n",
    " \n",
    "            # Comparing both values\n",
    "            if (s1 >= s2):\n",
    " \n",
    "                # Value of current symbol is greater\n",
    "                # or equal to the next symbol\n",
    "                res = res + s1\n",
    "                i = i + 1\n",
    "            else:\n",
    " \n",
    "                # Value of current symbol is greater\n",
    "                # or equal to the next symbol\n",
    "                res = res + s2 - s1\n",
    "                i = i + 2\n",
    "        else:\n",
    "            res = res + s1\n",
    "            i = i + 1\n",
    " \n",
    "    return res\n",
    " \n",
    "# Driver code\n",
    "print(\"Integer form of Roman Numeral is\"),\n",
    "print(romanToDecimal(\"MCMIV\")) "
   ]
  },
  {
   "cell_type": "markdown",
   "metadata": {},
   "source": [
    " Usually by convention, a return 0 means that the function ran successfully and did what it was intended to do. While other values like -1 or 1 means error.\n",
    "\n",
    "This was a very old convention as C doesn’t support objects, exceptions or Boolean types. So what the developers did was, use unique integers for each case. something like\n",
    "\n",
    "\n",
    "0 if everything is fine.\n",
    "\n",
    "1 or -1 if there is a file read error\n",
    "\n",
    "2 or -2 if there is invalid input etc."
   ]
  },
  {
   "cell_type": "markdown",
   "metadata": {},
   "source": [
    "#### Q.) Palindrome\n",
    "\n",
    "Given a number check if it is a palindrome"
   ]
  },
  {
   "cell_type": "code",
   "execution_count": 30,
   "metadata": {},
   "outputs": [],
   "source": [
    "from math import floor\n",
    "\n",
    "def palindrome(x):\n",
    "    n = x              # store n in x, because value of n changes inside while loop.\n",
    "    num = 0\n",
    "    \n",
    "    while n >= 1:\n",
    "        \n",
    "        remainder = n%10\n",
    "        n = floor(n/10)\n",
    "        num = num*10 + remainder\n",
    "    \n",
    "    return num == x"
   ]
  },
  {
   "cell_type": "code",
   "execution_count": 31,
   "metadata": {},
   "outputs": [
    {
     "data": {
      "text/plain": [
       "True"
      ]
     },
     "execution_count": 31,
     "metadata": {},
     "output_type": "execute_result"
    }
   ],
   "source": [
    "l = 454\n",
    "palindrome(l)"
   ]
  },
  {
   "cell_type": "markdown",
   "metadata": {},
   "source": [
    "#### #main function call\n",
    "\n",
    "`if __name__==\"__main__\":\n",
    "     __main()__`         "
   ]
  },
  {
   "cell_type": "markdown",
   "metadata": {},
   "source": [
    "### Multiplication Table\n",
    "\n",
    "__Problem statement:__\n",
    "    \n",
    "Given a number print its multiplication table."
   ]
  },
  {
   "cell_type": "code",
   "execution_count": 32,
   "metadata": {},
   "outputs": [],
   "source": [
    "def multi(n):\n",
    "    for i in range(0,10):\n",
    "        print (n*(i+1))"
   ]
  },
  {
   "cell_type": "code",
   "execution_count": 33,
   "metadata": {},
   "outputs": [
    {
     "name": "stdout",
     "output_type": "stream",
     "text": [
      "5\n",
      "10\n",
      "15\n",
      "20\n",
      "25\n",
      "30\n",
      "35\n",
      "40\n",
      "45\n",
      "50\n"
     ]
    }
   ],
   "source": [
    "multi(5)"
   ]
  },
  {
   "cell_type": "markdown",
   "metadata": {},
   "source": [
    "### Reverse number"
   ]
  },
  {
   "cell_type": "code",
   "execution_count": 34,
   "metadata": {},
   "outputs": [
    {
     "name": "stdout",
     "output_type": "stream",
     "text": [
      "765\n"
     ]
    }
   ],
   "source": [
    "from math import floor\n",
    "\n",
    "def reverse(n):\n",
    "    num = 0\n",
    "    while n>=1:\n",
    "        r = floor(n%10)\n",
    "        n = n/10\n",
    "        num = num*10+r\n",
    "    print (num)\n",
    "    \n",
    "reverse(567)"
   ]
  },
  {
   "cell_type": "markdown",
   "metadata": {},
   "source": [
    "### Reverse a string"
   ]
  },
  {
   "cell_type": "code",
   "execution_count": 35,
   "metadata": {},
   "outputs": [],
   "source": [
    "def reverse(string):\n",
    "    s = ''\n",
    "    i = len(string)-1\n",
    "    while i >= 0:\n",
    "        s = s + string[i]\n",
    "        i -= 1\n",
    "    print (s)"
   ]
  },
  {
   "cell_type": "code",
   "execution_count": 36,
   "metadata": {},
   "outputs": [
    {
     "name": "stdout",
     "output_type": "stream",
     "text": [
      "fedcba\n"
     ]
    }
   ],
   "source": [
    "s = 'abcdef'\n",
    "reverse(s)"
   ]
  },
  {
   "cell_type": "code",
   "execution_count": 37,
   "metadata": {},
   "outputs": [
    {
     "name": "stdout",
     "output_type": "stream",
     "text": [
      "dcba\n"
     ]
    }
   ],
   "source": [
    "l = 'abcd'\n",
    "r = l[::-1]\n",
    "print(r)"
   ]
  },
  {
   "cell_type": "markdown",
   "metadata": {},
   "source": [
    "### Check elements in an array\n",
    "\n",
    "__Problem statement:__\n",
    "    \n",
    "Check if a given number is present in the given array."
   ]
  },
  {
   "cell_type": "code",
   "execution_count": 38,
   "metadata": {},
   "outputs": [],
   "source": [
    "def arr_check(k,l):\n",
    "    \n",
    "    i = len(l) - 1\n",
    "    \n",
    "    while i >= 0:\n",
    "        \n",
    "        if k == l[i]:\n",
    "            return True\n",
    "        \n",
    "        i -= 1\n",
    "        \n",
    "    return False"
   ]
  },
  {
   "cell_type": "code",
   "execution_count": 39,
   "metadata": {},
   "outputs": [
    {
     "data": {
      "text/plain": [
       "True"
      ]
     },
     "execution_count": 39,
     "metadata": {},
     "output_type": "execute_result"
    }
   ],
   "source": [
    "k = 3\n",
    "l = [1,2,3,4]\n",
    "arr_check(k,l)"
   ]
  },
  {
   "cell_type": "code",
   "execution_count": 40,
   "metadata": {},
   "outputs": [
    {
     "data": {
      "text/plain": [
       "False"
      ]
     },
     "execution_count": 40,
     "metadata": {},
     "output_type": "execute_result"
    }
   ],
   "source": [
    "k = 5\n",
    "l = [1,2,3,4]\n",
    "arr_check(k,l)"
   ]
  },
  {
   "cell_type": "code",
   "execution_count": 41,
   "metadata": {},
   "outputs": [],
   "source": [
    "# Avoid this because we used 'in' function in it.\n",
    "\n",
    "def present(n,A):\n",
    "    if n not in A:\n",
    "        return 'Absent'\n",
    "\n",
    "    else:\n",
    "        return 'Present'"
   ]
  },
  {
   "cell_type": "code",
   "execution_count": 42,
   "metadata": {},
   "outputs": [
    {
     "data": {
      "text/plain": [
       "'Absent'"
      ]
     },
     "execution_count": 42,
     "metadata": {},
     "output_type": "execute_result"
    }
   ],
   "source": [
    "A = [1,2,3,4]\n",
    "n = 5\n",
    "present(n,A)"
   ]
  },
  {
   "cell_type": "code",
   "execution_count": 43,
   "metadata": {},
   "outputs": [
    {
     "name": "stdout",
     "output_type": "stream",
     "text": [
      "4\n",
      "3\n",
      "2\n",
      "1\n"
     ]
    }
   ],
   "source": [
    "a = [1,2,3,4]\n",
    "while len(a)>0:\n",
    "    print (a.pop())"
   ]
  },
  {
   "cell_type": "code",
   "execution_count": 44,
   "metadata": {},
   "outputs": [
    {
     "data": {
      "text/plain": [
       "'b'"
      ]
     },
     "execution_count": 44,
     "metadata": {},
     "output_type": "execute_result"
    }
   ],
   "source": [
    "x = 'abc'\n",
    "x[1]"
   ]
  },
  {
   "cell_type": "markdown",
   "metadata": {},
   "source": [
    "### Magic Sum\n",
    "\n",
    "__Problem statement:__\n",
    "    \n",
    "Given an array return the sum of each element when every even element is added 1 in it and every odd element is multiplied by 5.\n",
    "\n",
    "__Sample Input:__\n",
    "\n",
    "A = [1,2,3,4]\n",
    "\n",
    "__Sample Output:__\n",
    "\n",
    "36\n",
    "\n",
    "__Explanation:__\n",
    "\n",
    "(1+1)+(2x5)+(3+1)+(4x5) = 36"
   ]
  },
  {
   "cell_type": "code",
   "execution_count": 45,
   "metadata": {},
   "outputs": [
    {
     "data": {
      "text/plain": [
       "36"
      ]
     },
     "execution_count": 45,
     "metadata": {},
     "output_type": "execute_result"
    }
   ],
   "source": [
    "\n",
    "def magicsum(a):\n",
    "    A = 0\n",
    "    i = 0\n",
    "    while i < len(a):\n",
    "        if i%2 == 0:\n",
    "            A = A + a[i]+1\n",
    "        else:\n",
    "            A = A + a[i]*5\n",
    "        i += 1\n",
    "    \n",
    "    return A\n",
    "\n",
    "a = [1,2,3,4]\n",
    "magicsum(a)"
   ]
  },
  {
   "cell_type": "markdown",
   "metadata": {},
   "source": [
    "### Simple Array Sum\n",
    "\n",
    "__Problem statement:__\n",
    "\n",
    "Given an array of integers, find the sum of its elements.\n",
    "\n",
    "__Input Format:__\n",
    "\n",
    "The first line contains an integer,n, denoting the size of the array. \n",
    "The second line contains n space-separated integers representing the array's elements.\n",
    "\n",
    "__Output Format:__\n",
    "\n",
    "Print the sum of the array's elements as a single integer.\n",
    "\n",
    "__Sample Input:__\n",
    "\n",
    "6\n",
    "1 2 3 4 10 11\n",
    "\n",
    "__Sample Output:__\n",
    "\n",
    "31\n",
    "\n",
    "__Explanation:__\n",
    "\n",
    "We print the sum of the array's elements: 1+2+3+4+10+11 = 31"
   ]
  },
  {
   "cell_type": "code",
   "execution_count": 46,
   "metadata": {},
   "outputs": [],
   "source": [
    "def simpleArraySum(ar):\n",
    "    n = len(ar) - 1\n",
    "    s = 0\n",
    "    while n >= 0:\n",
    "        s = s + ar[n]\n",
    "        n -= 1\n",
    "    return s\n",
    "\n"
   ]
  },
  {
   "cell_type": "code",
   "execution_count": 47,
   "metadata": {},
   "outputs": [
    {
     "data": {
      "text/plain": [
       "10"
      ]
     },
     "execution_count": 47,
     "metadata": {},
     "output_type": "execute_result"
    }
   ],
   "source": [
    "ar = [1,2,3,4]\n",
    "simpleArraySum(ar)"
   ]
  },
  {
   "cell_type": "markdown",
   "metadata": {},
   "source": [
    "### Compare the triplets\n",
    "\n",
    "__Problem statement:__\n",
    "\n",
    "Alice and Bob each created one problem for HackerRank. A reviewer rates the two challenges, awarding points on a scale from 1 to 100 for three categories: problem clarity, originality, and difficulty.\n",
    "\n",
    "We define the rating for Alice's challenge to be the triplet A = (a[0],a[1],a[2]), and the rating for Bob's challenge to be the triplet B = (b[0],b[1],b[3]).\n",
    "\n",
    "Your task is to find their comparison points by comparing a[0] with b[0], a[1] with b[1] , and a[2] with b[2].\n",
    "\n",
    "If a[i] > b[i] , then Alice is awarded 1 point.\n",
    "If a[i] < b[i] , then Bob is awarded 1 point.\n",
    "If a[i] = b[i], then neither person receives a point.\n",
    "Comparison points is the total points a person earned.\n",
    "\n",
    "Given A and B , can you compare the two challenges and print their respective comparison points?\n",
    "\n",
    "__Input Format:__\n",
    "\n",
    "The first line contains 3 space-separated integers, a[0], a[1], and a[2], describing the respective values in triplet . \n",
    "The second line contains 3 space-separated integers, b[0], b[1], and b[2], describing the respective values in triplet .\n",
    "\n",
    "__Constraints:__\n",
    "\n",
    "* 1 <= a[i] <= 100\n",
    "* 1 <= b[i] <= 100\n",
    "\n",
    "__Output Format:__\n",
    "\n",
    "Return an array of two integers denoting the respective comparison points earned by Alice and Bob.\n",
    "\n",
    "__Sample Input:__\n",
    "\n",
    "5 6 7\n",
    "\n",
    "3 6 10\n",
    "\n",
    "__Sample Output:__\n",
    "    \n",
    "1 1\n",
    "\n",
    "__Explanation:__\n",
    "\n",
    "In this example:\n",
    "\n",
    "* A = (a[0],a[1],a[2]) = (5,6,7)\n",
    "* B = (b[0],b[1],b[2]) = (3,6,10)\n",
    "\n",
    "Now, let's compare each individual score:\n",
    "\n",
    "* a[0]>b[0], so Alice receives 1 point.\n",
    "* a[1]=b[1], so nobody receives a point.\n",
    "* a[2]<b[2], so Bob receives 1 point.\n",
    "Alice's comparison score is 1, and Bob's comparison score is 1. Thus, we print 1 1 (Alice's comparison score followed by Bob's comparison score) on a single line.\n",
    "\n"
   ]
  },
  {
   "cell_type": "code",
   "execution_count": 48,
   "metadata": {},
   "outputs": [],
   "source": [
    "def solve(A,B):\n",
    "    a = 0\n",
    "    b = 0\n",
    "    \n",
    "    for i in range(len(A)):\n",
    "        if A[i] > B[i]:\n",
    "            a += 1\n",
    "        if A[i] < B[i]:\n",
    "            b += 1\n",
    "    \n",
    "    print(a,b)"
   ]
  },
  {
   "cell_type": "code",
   "execution_count": 49,
   "metadata": {},
   "outputs": [
    {
     "name": "stdout",
     "output_type": "stream",
     "text": [
      "3 0\n"
     ]
    }
   ],
   "source": [
    "a = [5,6,8,9]\n",
    "b = [4,5,8,7]\n",
    "solve(a,b)"
   ]
  },
  {
   "cell_type": "markdown",
   "metadata": {},
   "source": [
    "### Integer Sum\n",
    "\n",
    "__Problem statement__\n",
    "\n",
    "Calculate and print the sum of the elements in an array, keeping in mind that some of those integers may be quite large.\n",
    "\n",
    "__Input Format:__\n",
    "\n",
    "The first line of the input consists of an integer n. \n",
    "The next line contains n space-separated integers contained in the array.\n",
    "\n",
    "__Output Format:__\n",
    "\n",
    "Print the __integer sum__ of the elements in the array.\n",
    "\n",
    "__Constraints:__\n",
    "    \n",
    "1 <= n <= 10\n",
    "\n",
    "0 <= ar[i] <= 10^10\n",
    " \n",
    "\n",
    "__Sample Input:__\n",
    "\n",
    "5\n",
    "\n",
    "1000000001 1000000002 1000000003 1000000004 1000000005\n",
    "\n",
    "__Output:__\n",
    "\n",
    "5000000015"
   ]
  },
  {
   "cell_type": "code",
   "execution_count": 50,
   "metadata": {},
   "outputs": [],
   "source": [
    "def big_sum(A):\n",
    "    s = 0\n",
    "    for i in range(len(A)):\n",
    "        s = s + A[i]\n",
    "    return s"
   ]
  },
  {
   "cell_type": "code",
   "execution_count": 51,
   "metadata": {},
   "outputs": [
    {
     "data": {
      "text/plain": [
       "5000000015"
      ]
     },
     "execution_count": 51,
     "metadata": {},
     "output_type": "execute_result"
    }
   ],
   "source": [
    "A = [1000000001, 1000000002, 1000000003, 1000000004, 1000000005]\n",
    "big_sum(A)"
   ]
  },
  {
   "cell_type": "markdown",
   "metadata": {},
   "source": [
    "### Plus Minus\n",
    "\n",
    "__Problem statement:__\n",
    "\n",
    "Given an array of integers, calculate the fractions of its elements that are positive, negative, and are zeros. Print the decimal value of each fraction on a new line.\n",
    "\n",
    "Note: This challenge introduces precision problems. The test cases are scaled to six decimal places, though answers with absolute error of up to 10^-4 are acceptable.\n",
    "\n",
    "Input Format\n",
    "\n",
    "The first line contains an integer, n, denoting the size of the array. \n",
    "The second line contains n space-separated integers describing an array of numbers arr(a0, a1, a2,...,upto n-1).\n",
    "\n",
    "__Output Format:__\n",
    "\n",
    "You must print the following 3 lines:\n",
    "\n",
    "* A decimal representing of the fraction of positive numbers in the array compared to its size.\n",
    "* A decimal representing of the fraction of negative numbers in the array compared to its size.\n",
    "* A decimal representing of the fraction of zeros in the array compared to its size.\n",
    "\n",
    "__Sample Input:__\n",
    "\n",
    "6\n",
    "\n",
    "-4 3 -9 0 4 1  \n",
    "\n",
    "__Sample Output:__\n",
    "\n",
    "0.500000\n",
    "\n",
    "0.333333\n",
    "\n",
    "0.166667\n",
    "\n",
    "__Explanation:__\n",
    "\n",
    "There are 3 positive numbers, 2 negative numbers, and 1 zero in the array. \n",
    "The proportions of occurrence are positive: 3/6 = 0.500000 , negative: 2/6 = 0.333333 and zeros: 1/6 = 0.166667."
   ]
  },
  {
   "cell_type": "code",
   "execution_count": 52,
   "metadata": {},
   "outputs": [],
   "source": [
    "def plus_minus(A):\n",
    "    \n",
    "    P = 0\n",
    "    N = 0\n",
    "    Z = 0\n",
    "    \n",
    "    n = len(A)\n",
    "    \n",
    "    for i in range(n):\n",
    "        if A[i] > 0:\n",
    "            P += 1\n",
    "        if A[i] < 0:\n",
    "            N += 1\n",
    "        if A[i] == 0:\n",
    "            Z += 1\n",
    "            \n",
    "    print(round((P/n),6))\n",
    "    print(round((N/n),6))\n",
    "    print(round((Z/n),6))"
   ]
  },
  {
   "cell_type": "code",
   "execution_count": 53,
   "metadata": {},
   "outputs": [
    {
     "name": "stdout",
     "output_type": "stream",
     "text": [
      "0.5\n",
      "0.333333\n",
      "0.166667\n"
     ]
    }
   ],
   "source": [
    "A = [-4, 3, -9, 0, 4, 1]\n",
    "plus_minus(A)"
   ]
  },
  {
   "cell_type": "markdown",
   "metadata": {},
   "source": [
    "### Mini-Max Sum\n",
    "\n",
    "__Problem statement:__\n",
    "    \n",
    "Given five positive integers, find the minimum and maximum values that can be calculated by summing exactly four of the five integers. Then print the respective minimum and maximum values as a single line of two space-separated long integers.\n",
    "\n",
    "__Input Format:__\n",
    "\n",
    "A single line of five space-separated integers.\n",
    "\n",
    "__Constraints:__\n",
    "\n",
    "Each integer is in the inclusive range[1...10^9].\n",
    "\n",
    "__Output Format:__\n",
    "\n",
    "Print two space-separated long integers denoting the respective minimum and maximum values that can be calculated by summing exactly four of the five integers. (The output can be greater than a 32 bit integer.)\n",
    "\n",
    "__Sample Input:__\n",
    "\n",
    "1 2 3 4 5\n",
    "\n",
    "__Sample Output:__\n",
    "\n",
    "10 14\n",
    "\n",
    "__Explanation:__\n",
    "\n",
    "Our initial numbers are 1, 2, 3, 4, and 5. We can calculate the following sums using four of the five integers:\n",
    "\n",
    "If we sum everything except 1, our sum is 2+3+4+5 = 14.\n",
    "If we sum everything except 2, our sum is 1+3+4+5 = 13.\n",
    "If we sum everything except 3, our sum is 1+2+4+5 = 12.\n",
    "If we sum everything except 4, our sum is 1+2+3+5 = 11.\n",
    "If we sum everything except 5, our sum is 1+2+3+4 = 10."
   ]
  },
  {
   "cell_type": "code",
   "execution_count": 54,
   "metadata": {},
   "outputs": [],
   "source": [
    "def min_max(A):\n",
    "    \n",
    "    s = 0\n",
    "    \n",
    "    for i in range(len(A)):\n",
    "        s = s + A[i]\n",
    "    \n",
    "    min_sum = A[0]\n",
    "    max_sum = A[0]\n",
    "    \n",
    "    for i in range(len(A)):\n",
    "        if max_sum > s - A[i]:\n",
    "            min_sum = s - A[i]\n",
    "                \n",
    "        if min_sum < s - A[i]:\n",
    "            max_sum = s - A[i]\n",
    "            \n",
    "    print(min_sum,max_sum)"
   ]
  },
  {
   "cell_type": "code",
   "execution_count": 55,
   "metadata": {},
   "outputs": [
    {
     "name": "stdout",
     "output_type": "stream",
     "text": [
      "6 13\n"
     ]
    }
   ],
   "source": [
    "A = [1,-2,3,4,5]\n",
    "min_max(A)"
   ]
  },
  {
   "cell_type": "markdown",
   "metadata": {},
   "source": [
    "### Birthday cake candles\n",
    "\n",
    "__Problem statement:__\n",
    "\n",
    "You are in-charge of the cake for your niece's birthday and have decided the cake will have one candle for each year of her total age. When she blows out the candles, she’ll only be able to blow out the tallest ones. Your task is to find out how many candles she can successfully blow out.\n",
    "\n",
    "For example, if your niece is turning 4 years old, and the cake will have  candles of height 3, 2, 1, 3, she will be able to blow out 2 candles successfully, since the tallest candle is of height 3 and there are 2 such candles.\n",
    "\n",
    "Complete the function birthdayCakeCandles that takes your niece's age and an integer array containing height of each candle as input, and return the number of candles she can successfully blow out.\n",
    "\n",
    "__Input Format:__\n",
    "\n",
    "The first line contains a single integer, n, denoting the number of candles on the cake. \n",
    "The second line contains n space-separated integers, where each integer i describes the height of candle .\n",
    "\n",
    "__Constraints:__\n",
    "\n",
    "* 1 <= n <= 10^5\n",
    "* 1 <= height <= 10^7\n",
    "\n",
    "__Output Format:__\n",
    "\n",
    "Print the number of candles that can be blown out on a new line.\n",
    "\n",
    "__Sample Input:__\n",
    "\n",
    "4\n",
    "\n",
    "3 2 1 3\n",
    "\n",
    "__Sample Output:__\n",
    "\n",
    "2\n",
    "\n",
    "__Explanation:__\n",
    "\n",
    "We have one candle of height 1, one candle of height 2, and two candles of height 3. Your niece only blows out the tallest candles, meaning the candles where height = 3. Because there are 2 such candles, we print 2 on a new line."
   ]
  },
  {
   "cell_type": "code",
   "execution_count": 56,
   "metadata": {},
   "outputs": [],
   "source": [
    "def candles(A):\n",
    "    \n",
    "    Max = A[0]\n",
    "    for i in range(len(A)):\n",
    "        if Max <= A[i]:\n",
    "            Max = A[i]\n",
    "    print(Max)\n",
    "    x = 0\n",
    "    for i in range(len(A)):\n",
    "        if Max == A[i]:\n",
    "            x += 1\n",
    "    return x"
   ]
  },
  {
   "cell_type": "code",
   "execution_count": 57,
   "metadata": {},
   "outputs": [
    {
     "name": "stdout",
     "output_type": "stream",
     "text": [
      "3\n"
     ]
    },
    {
     "data": {
      "text/plain": [
       "2"
      ]
     },
     "execution_count": 57,
     "metadata": {},
     "output_type": "execute_result"
    }
   ],
   "source": [
    "A = [3,2,1,3]\n",
    "candles(A)"
   ]
  },
  {
   "cell_type": "code",
   "execution_count": 58,
   "metadata": {},
   "outputs": [],
   "source": [
    "def star(n):\n",
    "    s = ''\n",
    "    for i in range(n):\n",
    "        s += '*'\n",
    "        print(s)"
   ]
  },
  {
   "cell_type": "code",
   "execution_count": 59,
   "metadata": {},
   "outputs": [
    {
     "name": "stdout",
     "output_type": "stream",
     "text": [
      "*\n",
      "**\n",
      "***\n",
      "****\n"
     ]
    }
   ],
   "source": [
    "star(4)"
   ]
  },
  {
   "cell_type": "code",
   "execution_count": 60,
   "metadata": {},
   "outputs": [],
   "source": [
    "def star1(n):\n",
    "   \n",
    "    for i in range(n):\n",
    "        \n",
    "        s = ''\n",
    "        for j in range(i+1):\n",
    "            s = s + '*'\n",
    "            \n",
    "        print(s)"
   ]
  },
  {
   "cell_type": "code",
   "execution_count": 61,
   "metadata": {},
   "outputs": [
    {
     "name": "stdout",
     "output_type": "stream",
     "text": [
      "*\n",
      "**\n",
      "***\n",
      "****\n",
      "*****\n"
     ]
    }
   ],
   "source": [
    "star1(5)"
   ]
  },
  {
   "cell_type": "code",
   "execution_count": 62,
   "metadata": {},
   "outputs": [
    {
     "name": "stdout",
     "output_type": "stream",
     "text": [
      "0\n",
      "1\n",
      "2\n",
      "3\n",
      "4\n"
     ]
    }
   ],
   "source": [
    "n = 5\n",
    "for i in range(n):\n",
    "    print (i)"
   ]
  },
  {
   "cell_type": "code",
   "execution_count": 63,
   "metadata": {},
   "outputs": [],
   "source": [
    "def space_star(n):\n",
    "    for i in range(n+1):\n",
    "        star = ''\n",
    "        space = ''\n",
    "        output = ''\n",
    "        # Generate space\n",
    "        for s in range(n-i):\n",
    "            space = space + ' '\n",
    "                    \n",
    "        for x in range(i): \n",
    "            star = star + '*'\n",
    "        \n",
    "        output = space + star\n",
    "        print(output)\n",
    "        "
   ]
  },
  {
   "cell_type": "code",
   "execution_count": 64,
   "metadata": {},
   "outputs": [
    {
     "name": "stdout",
     "output_type": "stream",
     "text": [
      "     \n",
      "    *\n",
      "   **\n",
      "  ***\n",
      " ****\n",
      "*****\n"
     ]
    }
   ],
   "source": [
    "space_star(5)\n"
   ]
  },
  {
   "cell_type": "code",
   "execution_count": 65,
   "metadata": {},
   "outputs": [],
   "source": [
    "def star_rev(n):\n",
    "    for i in range(n+1):\n",
    "        star = ''\n",
    "        for j in range(n-i):\n",
    "            star = star + '*'\n",
    "            \n",
    "        print(star)"
   ]
  },
  {
   "cell_type": "code",
   "execution_count": 66,
   "metadata": {},
   "outputs": [
    {
     "name": "stdout",
     "output_type": "stream",
     "text": [
      "*****\n",
      "****\n",
      "***\n",
      "**\n",
      "*\n",
      "\n"
     ]
    }
   ],
   "source": [
    "star_rev(5)"
   ]
  },
  {
   "cell_type": "code",
   "execution_count": 67,
   "metadata": {},
   "outputs": [],
   "source": [
    "def star3(n):\n",
    "    \n",
    "    for i in range(n+1):\n",
    "        star = ''\n",
    "        space = ''\n",
    "        output = ''\n",
    "        \n",
    "        for j in range(n-i):\n",
    "            space = space + ' '\n",
    "            \n",
    "        for k in range(i):\n",
    "            star = star + '* '\n",
    "        \n",
    "        output = space + star\n",
    "        print(output)"
   ]
  },
  {
   "cell_type": "code",
   "execution_count": 68,
   "metadata": {},
   "outputs": [
    {
     "name": "stdout",
     "output_type": "stream",
     "text": [
      "     \n",
      "    * \n",
      "   * * \n",
      "  * * * \n",
      " * * * * \n",
      "* * * * * \n"
     ]
    }
   ],
   "source": [
    "star3(5)"
   ]
  },
  {
   "cell_type": "code",
   "execution_count": 69,
   "metadata": {},
   "outputs": [],
   "source": [
    "def star4(n):\n",
    "    \n",
    "    for i in range(n):\n",
    "        space = ''\n",
    "        star = ''\n",
    "        output = ''\n",
    "        \n",
    "        for j in range(i+1):\n",
    "            space = space + ' '\n",
    "        # print(space)\n",
    "        \n",
    "        for k in range(n-i):\n",
    "            star = star + '* '\n",
    "            \n",
    "        output = space + star\n",
    "        print(output)"
   ]
  },
  {
   "cell_type": "code",
   "execution_count": 70,
   "metadata": {},
   "outputs": [
    {
     "name": "stdout",
     "output_type": "stream",
     "text": [
      " * * * * * \n",
      "  * * * * \n",
      "   * * * \n",
      "    * * \n",
      "     * \n"
     ]
    }
   ],
   "source": [
    "star4(5)"
   ]
  },
  {
   "cell_type": "markdown",
   "metadata": {},
   "source": [
    "### Sort array in ascending order"
   ]
  },
  {
   "cell_type": "code",
   "execution_count": 71,
   "metadata": {},
   "outputs": [],
   "source": [
    "def sort_arr(A):\n",
    "    \n",
    "    for i in range(len(A)):\n",
    "        for j in range(i, len(A)):\n",
    "            if A[j] < A[j-1]:\n",
    "                [A[j-1], A[j]] = [A[j],A[j-1]]\n",
    "            \n",
    "    return A"
   ]
  },
  {
   "cell_type": "code",
   "execution_count": 72,
   "metadata": {},
   "outputs": [
    {
     "data": {
      "text/plain": [
       "[2, 3, 4, 6, 7, 9, 11]"
      ]
     },
     "execution_count": 72,
     "metadata": {},
     "output_type": "execute_result"
    }
   ],
   "source": [
    "A = [9,2,6,4,3,11,7]\n",
    "sort_arr(A)"
   ]
  },
  {
   "cell_type": "markdown",
   "metadata": {},
   "source": [
    "### Factorial"
   ]
  },
  {
   "cell_type": "code",
   "execution_count": 73,
   "metadata": {},
   "outputs": [],
   "source": [
    "def fact(n):\n",
    "    \n",
    "    f = 1\n",
    "    \n",
    "    for num in range(1,n+1):\n",
    "        f = f*num\n",
    "        \n",
    "    return f"
   ]
  },
  {
   "cell_type": "code",
   "execution_count": 74,
   "metadata": {},
   "outputs": [
    {
     "data": {
      "text/plain": [
       "24"
      ]
     },
     "execution_count": 74,
     "metadata": {},
     "output_type": "execute_result"
    }
   ],
   "source": [
    "fact(4)"
   ]
  },
  {
   "cell_type": "markdown",
   "metadata": {},
   "source": [
    "### Grading students\n",
    "\n",
    "[Problem statement](https://www.hackerrank.com/challenges/grading/problem)"
   ]
  },
  {
   "cell_type": "code",
   "execution_count": 75,
   "metadata": {},
   "outputs": [],
   "source": [
    "def gradingStudents(grades):\n",
    "    \n",
    "    for i in range(len(grades)):\n",
    "    \n",
    "        if grades[i] > 37:\n",
    "            pass\n",
    "            remainder = grades[i] % 5\n",
    "            if remainder > 2:\n",
    "                grades[i] = grades[i]+5 - remainder\n",
    "    return grades "
   ]
  },
  {
   "cell_type": "code",
   "execution_count": 76,
   "metadata": {},
   "outputs": [
    {
     "data": {
      "text/plain": [
       "[75, 45, 95, 11]"
      ]
     },
     "execution_count": 76,
     "metadata": {},
     "output_type": "execute_result"
    }
   ],
   "source": [
    "gradingStudents([74, 45, 93, 11])"
   ]
  },
  {
   "cell_type": "code",
   "execution_count": 77,
   "metadata": {},
   "outputs": [
    {
     "data": {
      "text/plain": [
       "[14, 13, 3, 11]"
      ]
     },
     "execution_count": 77,
     "metadata": {},
     "output_type": "execute_result"
    }
   ],
   "source": [
    "gradingStudents([14, 13, 3, 11])"
   ]
  },
  {
   "cell_type": "markdown",
   "metadata": {},
   "source": [
    "### Time Conversion\n",
    "\n",
    "[problem statement](https://www.hackerrank.com/challenges/time-conversion/problem)\n",
    "\n",
    "Used __zfill()__ to add zeroes before string value."
   ]
  },
  {
   "cell_type": "code",
   "execution_count": 78,
   "metadata": {},
   "outputs": [],
   "source": [
    "def timeConversion(s):\n",
    "    \n",
    "    if s[:2] != '12' and s[-2:] == 'AM':\n",
    "        return s[:-2]\n",
    "    \n",
    "    elif s[:2] != '12' and s[-2:] == 'PM':\n",
    "        s = (str((int(s[0])*10+int(s[1])+12)) +':'+ s[3:8])\n",
    "        return s\n",
    "    \n",
    "    elif s[:2] == '12' and s[-2:] == 'AM':\n",
    "        s = (str((int(s[0])*10+int(s[1])-12)).zfill(2) +':'+ s[3:8])\n",
    "        return s\n",
    "\n",
    "    elif s[:2] == '12' and s[-2:] == 'PM':\n",
    "        return s[:-2]"
   ]
  },
  {
   "cell_type": "code",
   "execution_count": 79,
   "metadata": {},
   "outputs": [
    {
     "data": {
      "text/plain": [
       "'00:59:00'"
      ]
     },
     "execution_count": 79,
     "metadata": {},
     "output_type": "execute_result"
    }
   ],
   "source": [
    "a = '12:59:00AM'\n",
    "#b = '12:50:00PM'\n",
    "timeConversion(a)"
   ]
  },
  {
   "cell_type": "code",
   "execution_count": 80,
   "metadata": {
    "scrolled": true
   },
   "outputs": [
    {
     "name": "stdout",
     "output_type": "stream",
     "text": [
      "ephant\n",
      "el\n",
      "nt\n",
      "elepha\n"
     ]
    }
   ],
   "source": [
    "s = 'elephant'\n",
    "print(s[2:])\n",
    "print(s[:2])\n",
    "print(s[-2:])\n",
    "print(s[:-2])"
   ]
  },
  {
   "cell_type": "markdown",
   "metadata": {},
   "source": [
    "* __abs() function__ returns absolute value for any number positive or negative."
   ]
  },
  {
   "cell_type": "markdown",
   "metadata": {},
   "source": [
    "### Cats and mouse\n",
    "\n",
    "[Problem statement](https://www.hackerrank.com/challenges/cats-and-a-mouse/problem)"
   ]
  },
  {
   "cell_type": "code",
   "execution_count": 81,
   "metadata": {},
   "outputs": [],
   "source": [
    "def catAndMouse(x, y, z):\n",
    "    \n",
    "    if abs(x-z) > abs(y-z):\n",
    "        return 'Cat B'\n",
    "    \n",
    "    if abs(x-z) < abs(y-z):\n",
    "        return 'Cat A'\n",
    "\n",
    "    else:\n",
    "        return 'Mouse C'"
   ]
  },
  {
   "cell_type": "markdown",
   "metadata": {},
   "source": [
    "### Hurdle Race\n",
    "\n",
    "[Problem statement](https://www.hackerrank.com/challenges/the-hurdle-race/problem)"
   ]
  },
  {
   "cell_type": "code",
   "execution_count": 82,
   "metadata": {},
   "outputs": [],
   "source": [
    "def hurdleRace(k, height):\n",
    "    \n",
    "    h_max = height[0]\n",
    "    \n",
    "    for h in range(len(height)):\n",
    "        if h_max <= height[h]:\n",
    "            h_max = height[h]\n",
    "            \n",
    "    p = h_max - k\n",
    "    \n",
    "    if k > h_max:\n",
    "        return 0\n",
    "    \n",
    "    else:\n",
    "        return p"
   ]
  },
  {
   "cell_type": "code",
   "execution_count": 83,
   "metadata": {},
   "outputs": [
    {
     "data": {
      "text/plain": [
       "2"
      ]
     },
     "execution_count": 83,
     "metadata": {},
     "output_type": "execute_result"
    }
   ],
   "source": [
    "k = 5\n",
    "height = [3,4,5,6,7]\n",
    "hurdleRace(k, height)"
   ]
  },
  {
   "cell_type": "code",
   "execution_count": 84,
   "metadata": {},
   "outputs": [
    {
     "data": {
      "text/plain": [
       "0"
      ]
     },
     "execution_count": 84,
     "metadata": {},
     "output_type": "execute_result"
    }
   ],
   "source": [
    "k = 7\n",
    "height = [3,4,5,6,7]\n",
    "hurdleRace(k, height)"
   ]
  },
  {
   "cell_type": "markdown",
   "metadata": {},
   "source": [
    "### Angry Professor\n",
    "\n",
    "[Problem statement](https://www.hackerrank.com/challenges/angry-professor/problem)"
   ]
  },
  {
   "cell_type": "code",
   "execution_count": 85,
   "metadata": {},
   "outputs": [],
   "source": [
    "def angryProfessor(k, a):\n",
    "    \n",
    "    attendance = 0\n",
    "    \n",
    "    for i in range(len(a)):\n",
    "        if a[i] <= 0:\n",
    "            attendance += 1\n",
    "    print(attendance)       \n",
    "    if attendance >= k:\n",
    "        return 'NO'\n",
    "\n",
    "    else:\n",
    "        return 'YES'"
   ]
  },
  {
   "cell_type": "code",
   "execution_count": 86,
   "metadata": {},
   "outputs": [
    {
     "name": "stdout",
     "output_type": "stream",
     "text": [
      "2\n"
     ]
    },
    {
     "data": {
      "text/plain": [
       "'YES'"
      ]
     },
     "execution_count": 86,
     "metadata": {},
     "output_type": "execute_result"
    }
   ],
   "source": [
    "k = 3\n",
    "a = [-1, -3, 4, 2]\n",
    "angryProfessor(k,a)"
   ]
  },
  {
   "cell_type": "markdown",
   "metadata": {},
   "source": [
    "### Bon Appetit\n",
    "\n",
    "[Problem statement](https://www.hackerrank.com/challenges/bon-appetit/problem)"
   ]
  },
  {
   "cell_type": "code",
   "execution_count": 87,
   "metadata": {},
   "outputs": [],
   "source": [
    "def bon_appetit(bill):\n",
    "    \n",
    "    sum_bill = 0\n",
    "    \n",
    "    for i in range(len(bill)):\n",
    "        sum_bill +=  bill[i]\n",
    "    anna_half = (sum_bill - bill[1])/2\n",
    "    \n",
    "    if (sum_bill/2) > anna_half:\n",
    "        refund = sum_bill/2 - anna_half\n",
    "        return refund\n",
    "    \n",
    "    else:\n",
    "        return 'Bon Appetit'"
   ]
  },
  {
   "cell_type": "code",
   "execution_count": 88,
   "metadata": {},
   "outputs": [
    {
     "data": {
      "text/plain": [
       "5.0"
      ]
     },
     "execution_count": 88,
     "metadata": {},
     "output_type": "execute_result"
    }
   ],
   "source": [
    "bill = [3,10,2,9]\n",
    "bon_appetit(bill)"
   ]
  },
  {
   "cell_type": "code",
   "execution_count": 89,
   "metadata": {},
   "outputs": [
    {
     "data": {
      "text/plain": [
       "'Bon Appetit'"
      ]
     },
     "execution_count": 89,
     "metadata": {},
     "output_type": "execute_result"
    }
   ],
   "source": [
    "bill = [3,0,2,9]\n",
    "bon_appetit(bill)"
   ]
  },
  {
   "cell_type": "markdown",
   "metadata": {},
   "source": [
    "### Count duplicates in an array"
   ]
  },
  {
   "cell_type": "code",
   "execution_count": 90,
   "metadata": {},
   "outputs": [],
   "source": [
    "def pairs(A):\n",
    "    \n",
    "    B = {}\n",
    "    for i in range(len(A)):\n",
    "        if A[i] in B: \n",
    "            B[A[i]] +=1\n",
    "        else:\n",
    "            B[A[i]] =1\n",
    "    print(B)"
   ]
  },
  {
   "cell_type": "code",
   "execution_count": 91,
   "metadata": {},
   "outputs": [
    {
     "name": "stdout",
     "output_type": "stream",
     "text": [
      "{10: 4, 20: 3, 30: 1, 50: 1}\n"
     ]
    }
   ],
   "source": [
    "A = [10, 20, 20, 10, 10, 30, 50, 10, 20]\n",
    "pairs(A)"
   ]
  },
  {
   "cell_type": "markdown",
   "metadata": {},
   "source": [
    "### Remove duplicates in an array"
   ]
  },
  {
   "cell_type": "code",
   "execution_count": 92,
   "metadata": {},
   "outputs": [],
   "source": [
    "def pairs1(A):\n",
    "    \n",
    "    B = {}\n",
    "    for i in range(len(A)):\n",
    "        if A[i] in B: \n",
    "            B[A[i]] +=1\n",
    "        else:\n",
    "            B[A[i]] =1\n",
    "\n",
    "    c = []\n",
    "    for i in B:\n",
    "        \n",
    "        c.append(i)\n",
    "    return c"
   ]
  },
  {
   "cell_type": "code",
   "execution_count": 93,
   "metadata": {},
   "outputs": [
    {
     "data": {
      "text/plain": [
       "[10, 20, 30, 50]"
      ]
     },
     "execution_count": 93,
     "metadata": {},
     "output_type": "execute_result"
    }
   ],
   "source": [
    "A = [10, 20, 20, 10, 10, 30, 50, 10, 20]\n",
    "pairs1(A)"
   ]
  },
  {
   "cell_type": "code",
   "execution_count": 94,
   "metadata": {},
   "outputs": [],
   "source": [
    "def pairs2(A):\n",
    "    \n",
    "    B = {}\n",
    "    for i in range(len(A)):\n",
    "        if A[i] in B: \n",
    "            B[A[i]] +=1\n",
    "        else:\n",
    "            B[A[i]] =1\n",
    "    print(B)\n",
    "    for i in B.values():\n",
    "        print (i)"
   ]
  },
  {
   "cell_type": "code",
   "execution_count": 95,
   "metadata": {},
   "outputs": [
    {
     "name": "stdout",
     "output_type": "stream",
     "text": [
      "{10: 4, 20: 3, 30: 1, 50: 1}\n",
      "4\n",
      "3\n",
      "1\n",
      "1\n"
     ]
    }
   ],
   "source": [
    "A = [10, 20, 20, 10, 10, 30, 50, 10, 20]\n",
    "pairs2(A)"
   ]
  },
  {
   "cell_type": "markdown",
   "metadata": {},
   "source": [
    "### Sock Merchant (Pairs)\n",
    "\n",
    "[Problem statement](https://www.hackerrank.com/challenges/sock-merchant/problem)"
   ]
  },
  {
   "cell_type": "code",
   "execution_count": 96,
   "metadata": {},
   "outputs": [],
   "source": [
    "from math import floor\n",
    "\n",
    "def pairs3(A):\n",
    "    \n",
    "    B = {}\n",
    "    c = 0\n",
    "    for i in range(len(A)):\n",
    "        if A[i] in B: \n",
    "            B[A[i]] +=1\n",
    "        else:\n",
    "            B[A[i]] =1\n",
    "            \n",
    "    for i in B.values():\n",
    "        c += floor(i/2)\n",
    "        \n",
    "    return c"
   ]
  },
  {
   "cell_type": "code",
   "execution_count": 97,
   "metadata": {},
   "outputs": [
    {
     "data": {
      "text/plain": [
       "3"
      ]
     },
     "execution_count": 97,
     "metadata": {},
     "output_type": "execute_result"
    }
   ],
   "source": [
    "A = [10, 20, 20, 10, 10, 30, 50, 10, 20]\n",
    "\n",
    "pairs3(A)"
   ]
  },
  {
   "cell_type": "code",
   "execution_count": 98,
   "metadata": {},
   "outputs": [
    {
     "data": {
      "text/plain": [
       "5"
      ]
     },
     "execution_count": 98,
     "metadata": {},
     "output_type": "execute_result"
    }
   ],
   "source": [
    "from math import floor\n",
    "\n",
    "floor(11/2)"
   ]
  },
  {
   "cell_type": "markdown",
   "metadata": {},
   "source": [
    "### Drawing Book\n",
    "\n",
    "[Problem statement](https://www.hackerrank.com/challenges/drawing-book/problem)"
   ]
  },
  {
   "cell_type": "code",
   "execution_count": 99,
   "metadata": {},
   "outputs": [],
   "source": [
    "# In these type of questions, check for corner cases. Here, corner cases are (n = 1, n/2, n).\n",
    "\n",
    "from math import floor\n",
    "def pageCount(n, p):\n",
    "    \n",
    "    if n%2 == 0:\n",
    "        \n",
    "        mid = n/2\n",
    "\n",
    "        if p > 0 and p <= n/2:           # Corner case 1 and 2 for (n = 1,n/2).\n",
    "            turn = floor(p/2)\n",
    "\n",
    "        else:                            # Corner case 3 for n = n.\n",
    "            turn = floor((n-p+1)/2)\n",
    "            \n",
    "    else:\n",
    "        mid = floor(n/2)\n",
    "  \n",
    "        if p > 0 and p <= floor(n/2):   # Corner case 1 and 2 for (n = 1,n/2).\n",
    "            turn = floor(p/2)\n",
    "\n",
    "        else:                           # Corner case 3 for n = n.\n",
    "            turn = floor((n-p)/2)\n",
    "        \n",
    "    print (turn)"
   ]
  },
  {
   "cell_type": "code",
   "execution_count": 100,
   "metadata": {},
   "outputs": [
    {
     "name": "stdout",
     "output_type": "stream",
     "text": [
      "4\n"
     ]
    }
   ],
   "source": [
    "n = 20\n",
    "p = 9\n",
    "pageCount(n, p)"
   ]
  },
  {
   "cell_type": "markdown",
   "metadata": {},
   "source": [
    "### CamelCase\n",
    "\n",
    "[Problem statement](https://www.hackerrank.com/challenges/camelcase/problem)"
   ]
  },
  {
   "cell_type": "code",
   "execution_count": 101,
   "metadata": {},
   "outputs": [],
   "source": [
    "def camelcase(s):\n",
    "    \n",
    "    if len(s) < 1:\n",
    "        return 0\n",
    "    \n",
    "    if len(s) > 0:\n",
    "        \n",
    "        words = 1\n",
    "        \n",
    "        for i in range(len(s)):\n",
    "            if s[i].isupper():\n",
    "                words += 1\n",
    "                \n",
    "        return words"
   ]
  },
  {
   "cell_type": "code",
   "execution_count": 102,
   "metadata": {},
   "outputs": [
    {
     "data": {
      "text/plain": [
       "5"
      ]
     },
     "execution_count": 102,
     "metadata": {},
     "output_type": "execute_result"
    }
   ],
   "source": [
    "s = 'saveChangesInTheEditor'\n",
    "camelcase(s)"
   ]
  },
  {
   "cell_type": "code",
   "execution_count": 103,
   "metadata": {},
   "outputs": [],
   "source": [
    "def countvalley(n, s):\n",
    "    \n",
    "    n = len(s)\n",
    "    count_previous = 0\n",
    "    count = 0\n",
    "    count_valley = 0\n",
    "    \n",
    "    for i in range(len(s)):\n",
    "        if s[i] == 'D':\n",
    "            count_previous = count\n",
    "            count -= 1\n",
    "\n",
    "        if s[i] == 'U':\n",
    "            count_previous = count\n",
    "            count += 1\n",
    "            \n",
    "        if count_previous == 0 and count == -1:\n",
    "            count_valley += 1\n",
    "\n",
    "    return count_valley"
   ]
  },
  {
   "cell_type": "code",
   "execution_count": 104,
   "metadata": {},
   "outputs": [
    {
     "data": {
      "text/plain": [
       "2"
      ]
     },
     "execution_count": 104,
     "metadata": {},
     "output_type": "execute_result"
    }
   ],
   "source": [
    "s = 'DDUUUUDDD'\n",
    "countvalley(n, s)"
   ]
  },
  {
   "cell_type": "markdown",
   "metadata": {},
   "source": [
    "### Designer pdf Viewer\n",
    "\n",
    "[Problem statement](https://www.hackerrank.com/challenges/designer-pdf-viewer/problem)"
   ]
  },
  {
   "cell_type": "code",
   "execution_count": 105,
   "metadata": {},
   "outputs": [],
   "source": [
    "def designerPdfViewer(height, word):\n",
    "        \n",
    "    x = {'a':height[0], 'b':height[1], 'c':height[2], 'd':height[3], 'e':height[4], 'f':height[5], 'g':height[6], 'h':height[7], 'i':height[8], 'j':height[9], 'k':height[10], 'l':height[11], 'm':height[12], 'n':height[13], 'o':height[14], 'p':height[15], 'q':height[16], 'r':height[17], 's':height[18], 't':height[19], 'u':height[20], 'v':height[21], 'w':height[22], 'x':height[23], 'y':height[24], 'z':height[25]}\n",
    "    h_max = 0\n",
    "    w = 1\n",
    "    \n",
    "    for letter in word:\n",
    "        height = x[letter]\n",
    "        if h_max <= height:\n",
    "            h_max = height\n",
    "        \n",
    "    return h_max"
   ]
  },
  {
   "cell_type": "code",
   "execution_count": 106,
   "metadata": {},
   "outputs": [
    {
     "data": {
      "text/plain": [
       "4"
      ]
     },
     "execution_count": 106,
     "metadata": {},
     "output_type": "execute_result"
    }
   ],
   "source": [
    "h = [1,2,3,4,5,6,7,8,9,10,11,12,13,14,15,16,17,18,19,20,21,22,23,24,25,26]\n",
    "word = 'abd'\n",
    "designerPdfViewer(h, word)"
   ]
  },
  {
   "cell_type": "markdown",
   "metadata": {},
   "source": [
    "### Utopian Tree\n",
    "[Problem statement](https://www.hackerrank.com/challenges/utopian-tree/problem)"
   ]
  },
  {
   "cell_type": "code",
   "execution_count": 107,
   "metadata": {},
   "outputs": [],
   "source": [
    "def utopianTree(n):\n",
    "    \n",
    "    height = 1\n",
    "    \n",
    "    for season in range(1,n+1):\n",
    "\n",
    "        if season%2 == 0:\n",
    "            height += 1\n",
    "        else:\n",
    "            height *= 2\n",
    "\n",
    "    return height"
   ]
  },
  {
   "cell_type": "code",
   "execution_count": 108,
   "metadata": {},
   "outputs": [
    {
     "data": {
      "text/plain": [
       "7"
      ]
     },
     "execution_count": 108,
     "metadata": {},
     "output_type": "execute_result"
    }
   ],
   "source": [
    "utopianTree(4)"
   ]
  },
  {
   "cell_type": "markdown",
   "metadata": {},
   "source": [
    "### Viral Advertising\n",
    "\n",
    "[Problem statement](https://www.hackerrank.com/challenges/strange-advertising/problem)"
   ]
  },
  {
   "cell_type": "code",
   "execution_count": 21,
   "metadata": {},
   "outputs": [],
   "source": [
    "from math import floor\n",
    "\n",
    "def viralAdvertising(n):\n",
    "    \n",
    "    shared = 5\n",
    "    liked = floor(shared/2)\n",
    "    sum_liked = liked\n",
    "    \n",
    "    for day in range(2,n+1):\n",
    "        shared = liked * 3\n",
    "        liked = floor(shared/2)\n",
    "        sum_liked += liked\n",
    "            \n",
    "    return sum_liked"
   ]
  },
  {
   "cell_type": "code",
   "execution_count": 24,
   "metadata": {},
   "outputs": [
    {
     "data": {
      "text/plain": [
       "2"
      ]
     },
     "execution_count": 24,
     "metadata": {},
     "output_type": "execute_result"
    }
   ],
   "source": [
    "viralAdvertising(1)"
   ]
  },
  {
   "cell_type": "code",
   "execution_count": null,
   "metadata": {},
   "outputs": [],
   "source": []
  },
  {
   "cell_type": "code",
   "execution_count": null,
   "metadata": {},
   "outputs": [],
   "source": []
  }
 ],
 "metadata": {
  "kernelspec": {
   "display_name": "Python 3",
   "language": "python",
   "name": "python3"
  },
  "language_info": {
   "codemirror_mode": {
    "name": "ipython",
    "version": 3
   },
   "file_extension": ".py",
   "mimetype": "text/x-python",
   "name": "python",
   "nbconvert_exporter": "python",
   "pygments_lexer": "ipython3",
   "version": "3.6.5"
  }
 },
 "nbformat": 4,
 "nbformat_minor": 2
}
