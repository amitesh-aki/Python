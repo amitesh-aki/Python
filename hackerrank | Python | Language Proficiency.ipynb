{
 "cells": [
  {
   "cell_type": "markdown",
   "metadata": {},
   "source": [
    "### If-Else:\n",
    "[problem statement](https://www.hackerrank.com/challenges/py-if-else/problem)"
   ]
  },
  {
   "cell_type": "code",
   "execution_count": 111,
   "metadata": {},
   "outputs": [],
   "source": [
    "def if_else(N):\n",
    "        \n",
    "    if N%2 == 0 and N >= 0:\n",
    "        if N in range(2,6):\n",
    "            print (\"Not Weird\")\n",
    "            \n",
    "        elif N in range (6,21):\n",
    "            print (\"Weird\")\n",
    "            \n",
    "        else:\n",
    "            print (\"Not Weird\")\n",
    "            \n",
    "    else:\n",
    "        print (\"Weird\")\n",
    "        \n",
    "# hackerrank has asked to simply to perform the conditional actions, so we don't need to define a function as in above case."
   ]
  },
  {
   "cell_type": "code",
   "execution_count": 112,
   "metadata": {},
   "outputs": [
    {
     "name": "stdout",
     "output_type": "stream",
     "text": [
      "Not Weird\n"
     ]
    }
   ],
   "source": [
    "N = 0\n",
    "\n",
    "if_else(N)"
   ]
  },
  {
   "cell_type": "markdown",
   "metadata": {},
   "source": [
    "### Loop:\n",
    "\n",
    "[problem satement](https://www.hackerrank.com/challenges/python-loops/problem?h_r=next-challenge&h_v=zen&h_r=next-challenge&h_v=zen)"
   ]
  },
  {
   "cell_type": "code",
   "execution_count": 113,
   "metadata": {},
   "outputs": [],
   "source": [
    "def sq(n):\n",
    "    for i in range(n):   # for i < n:  won't work\n",
    "        print (i**2)"
   ]
  },
  {
   "cell_type": "code",
   "execution_count": 114,
   "metadata": {},
   "outputs": [
    {
     "name": "stdout",
     "output_type": "stream",
     "text": [
      "0\n",
      "1\n",
      "4\n",
      "9\n",
      "16\n"
     ]
    }
   ],
   "source": [
    "sq(5)"
   ]
  },
  {
   "cell_type": "markdown",
   "metadata": {},
   "source": [
    "### Write a function:\n",
    "[problem statement](https://www.hackerrank.com/challenges/write-a-function/problem?h_r=next-challenge&h_v=zen&h_r=next-challenge&h_v=zen&h_r=next-challenge&h_v=zen) Leap year"
   ]
  },
  {
   "cell_type": "code",
   "execution_count": 115,
   "metadata": {},
   "outputs": [],
   "source": [
    "def is_leap(year):\n",
    "    leap = False\n",
    "    \n",
    "    if year % 400 == 0:\n",
    "        leap = True\n",
    "    elif year % 4 == 0 and year % 100 != 0:\n",
    "        leap = True\n",
    "    \n",
    "    return leap"
   ]
  },
  {
   "cell_type": "code",
   "execution_count": 116,
   "metadata": {},
   "outputs": [
    {
     "data": {
      "text/plain": [
       "True"
      ]
     },
     "execution_count": 116,
     "metadata": {},
     "output_type": "execute_result"
    }
   ],
   "source": [
    "y1 = 2016\n",
    "is_leap(y1)"
   ]
  },
  {
   "cell_type": "code",
   "execution_count": 117,
   "metadata": {},
   "outputs": [
    {
     "data": {
      "text/plain": [
       "False"
      ]
     },
     "execution_count": 117,
     "metadata": {},
     "output_type": "execute_result"
    }
   ],
   "source": [
    "y2 = 1900\n",
    "is_leap(y2)"
   ]
  },
  {
   "cell_type": "markdown",
   "metadata": {},
   "source": [
    "### Use of '*' and 'sep' operators in printing\n",
    "\n",
    "\n",
    "In Python 3, range behaves a bit different from the range function in Python 2.\n",
    "\n",
    "In Py3, range just returns an iterator. so if we do:\n",
    "\n",
    "    >>> range(10)\n",
    "\n",
    "> range(0, 10)\n",
    " \n",
    "For printing the values you are expecting range() function to return, you will have to use the following syntax:\n",
    "\n",
    "    >>> print(*range(10))\n",
    "\n",
    "> 0 1 2 3 4 5 6 7 8 9\n",
    " \n",
    "Here the elements in the range(10) can also be printed with a user defined delimiter, instead of default delimiter comma(,).\n",
    "\n",
    "The syntax is:\n",
    "\n",
    "    >>> print(*range(10), sep=\"a\")\n",
    "\n",
    "> 0a1a2a3a4a5a6a7a8a9\n",
    "\n",
    "Now coming to our question:\n",
    "\n",
    "    >>> print (*range (1, input() + 1), sep=\" ”)\n",
    "\n",
    "Here, we are printing values in range(1 and your input-1 separated by space(?). So, that is what is being run.\n",
    "\n",
    "<https://www.quora.com/How-does-this-line-run-print-*range-1-input-+-1-sep-%E2%80%9D>"
   ]
  },
  {
   "cell_type": "markdown",
   "metadata": {},
   "source": [
    "### Print function : \n",
    "\n",
    "[problem statement](https://www.hackerrank.com/challenges/python-print/problem?h_r=next-challenge&h_v=zen&h_r=next-challenge&h_v=zen&h_r=next-challenge&h_v=zen&h_r=next-challenge&h_v=zen)"
   ]
  },
  {
   "cell_type": "code",
   "execution_count": 118,
   "metadata": {},
   "outputs": [],
   "source": [
    "def sum(n):\n",
    "    \n",
    "    print (*range(1,n+1),sep='')"
   ]
  },
  {
   "cell_type": "code",
   "execution_count": 119,
   "metadata": {},
   "outputs": [
    {
     "name": "stdout",
     "output_type": "stream",
     "text": [
      "123\n"
     ]
    }
   ],
   "source": [
    "sum(3)"
   ]
  },
  {
   "cell_type": "code",
   "execution_count": 110,
   "metadata": {},
   "outputs": [
    {
     "name": "stdout",
     "output_type": "stream",
     "text": [
      "chris alan\n"
     ]
    }
   ],
   "source": [
    "print('chris alan',sep=' ')"
   ]
  },
  {
   "cell_type": "code",
   "execution_count": null,
   "metadata": {},
   "outputs": [],
   "source": []
  }
 ],
 "metadata": {
  "kernelspec": {
   "display_name": "Python 3",
   "language": "python",
   "name": "python3"
  },
  "language_info": {
   "codemirror_mode": {
    "name": "ipython",
    "version": 3
   },
   "file_extension": ".py",
   "mimetype": "text/x-python",
   "name": "python",
   "nbconvert_exporter": "python",
   "pygments_lexer": "ipython3",
   "version": "3.6.5"
  }
 },
 "nbformat": 4,
 "nbformat_minor": 2
}
